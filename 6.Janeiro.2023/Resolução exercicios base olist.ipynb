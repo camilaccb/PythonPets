{
 "cells": [
  {
   "attachments": {},
   "cell_type": "markdown",
   "metadata": {},
   "source": [
    "## Resolução de exercicios base olist ##"
   ]
  },
  {
   "cell_type": "code",
   "execution_count": 2,
   "metadata": {},
   "outputs": [],
   "source": [
    "import pandas as pd"
   ]
  },
  {
   "cell_type": "code",
   "execution_count": 6,
   "metadata": {},
   "outputs": [],
   "source": [
    "# Importando bases\n",
    "\n",
    "customer = pd.read_csv(\"Datasets/olist_customers_dataset.csv\")\n",
    "geolocation = pd.read_csv(\"Datasets/olist_geolocation_dataset.csv\")\n",
    "order_items = pd.read_csv(\"Datasets/olist_order_items_dataset.csv\")\n",
    "order_payments = pd.read_csv(\"Datasets/olist_order_payments_dataset.csv\")\n",
    "order_reviews = pd.read_csv(\"Datasets/olist_order_reviews_dataset.csv\")\n",
    "orders = pd.read_csv(\"Datasets/olist_orders_dataset.csv\")\n",
    "products = pd.read_csv(\"Datasets/olist_products_dataset.csv\")\n",
    "sellers = pd.read_csv(\"Datasets/olist_sellers_dataset.csv\")"
   ]
  },
  {
   "attachments": {},
   "cell_type": "markdown",
   "metadata": {},
   "source": [
    "### Nivel Fácil ###"
   ]
  },
  {
   "cell_type": "code",
   "execution_count": 7,
   "metadata": {},
   "outputs": [
    {
     "name": "stdout",
     "output_type": "stream",
     "text": [
      "Customer -> (99441, 5)\n",
      "geolocation -> (1000163, 5)\n",
      "order_items -> (112650, 7)\n",
      "order_payments -> (103886, 5)\n",
      "order_reviews -> (99224, 7)\n",
      "orders -> (99441, 8)\n",
      "products -> (32951, 9)\n",
      "sellers -> (3095, 4)\n"
     ]
    }
   ],
   "source": [
    "# 1. Qual é o tamanho de cada uma das bases (número de linhas e de colunas)?\n",
    "\n",
    "all_datasets = {\n",
    "    \"Customer\": customer,\n",
    "    \"geolocation\": geolocation,\n",
    "    \"order_items\": order_items,\n",
    "    \"order_payments\": order_payments,\n",
    "    \"order_reviews\": order_reviews,\n",
    "    \"orders\": orders,\n",
    "    \"products\": products,\n",
    "    \"sellers\": sellers\n",
    "}\n",
    "\n",
    "for name, base in all_datasets.items():\n",
    "    print(f\"{name} -> {base.shape}\")"
   ]
  },
  {
   "cell_type": "code",
   "execution_count": 10,
   "metadata": {},
   "outputs": [],
   "source": [
    "# 2. Qual é o tipo de dado estatístico de cada uma delas?\n",
    "# Lembrete: nominal/ordinal, numérico discreto/contínuo\n",
    "# Escolhendo o dataset products"
   ]
  },
  {
   "cell_type": "code",
   "execution_count": null,
   "metadata": {},
   "outputs": [
    {
     "data": {
      "text/html": [
       "<div>\n",
       "<style scoped>\n",
       "    .dataframe tbody tr th:only-of-type {\n",
       "        vertical-align: middle;\n",
       "    }\n",
       "\n",
       "    .dataframe tbody tr th {\n",
       "        vertical-align: top;\n",
       "    }\n",
       "\n",
       "    .dataframe thead th {\n",
       "        text-align: right;\n",
       "    }\n",
       "</style>\n",
       "<table border=\"1\" class=\"dataframe\">\n",
       "  <thead>\n",
       "    <tr style=\"text-align: right;\">\n",
       "      <th></th>\n",
       "      <th>product_id</th>\n",
       "      <th>product_category_name</th>\n",
       "      <th>product_name_lenght</th>\n",
       "      <th>product_description_lenght</th>\n",
       "      <th>product_photos_qty</th>\n",
       "      <th>product_weight_g</th>\n",
       "      <th>product_length_cm</th>\n",
       "      <th>product_height_cm</th>\n",
       "      <th>product_width_cm</th>\n",
       "    </tr>\n",
       "  </thead>\n",
       "  <tbody>\n",
       "    <tr>\n",
       "      <th>0</th>\n",
       "      <td>1e9e8ef04dbcff4541ed26657ea517e5</td>\n",
       "      <td>perfumaria</td>\n",
       "      <td>40.0</td>\n",
       "      <td>287.0</td>\n",
       "      <td>1.0</td>\n",
       "      <td>225.0</td>\n",
       "      <td>16.0</td>\n",
       "      <td>10.0</td>\n",
       "      <td>14.0</td>\n",
       "    </tr>\n",
       "    <tr>\n",
       "      <th>1</th>\n",
       "      <td>3aa071139cb16b67ca9e5dea641aaa2f</td>\n",
       "      <td>artes</td>\n",
       "      <td>44.0</td>\n",
       "      <td>276.0</td>\n",
       "      <td>1.0</td>\n",
       "      <td>1000.0</td>\n",
       "      <td>30.0</td>\n",
       "      <td>18.0</td>\n",
       "      <td>20.0</td>\n",
       "    </tr>\n",
       "    <tr>\n",
       "      <th>2</th>\n",
       "      <td>96bd76ec8810374ed1b65e291975717f</td>\n",
       "      <td>esporte_lazer</td>\n",
       "      <td>46.0</td>\n",
       "      <td>250.0</td>\n",
       "      <td>1.0</td>\n",
       "      <td>154.0</td>\n",
       "      <td>18.0</td>\n",
       "      <td>9.0</td>\n",
       "      <td>15.0</td>\n",
       "    </tr>\n",
       "    <tr>\n",
       "      <th>3</th>\n",
       "      <td>cef67bcfe19066a932b7673e239eb23d</td>\n",
       "      <td>bebes</td>\n",
       "      <td>27.0</td>\n",
       "      <td>261.0</td>\n",
       "      <td>1.0</td>\n",
       "      <td>371.0</td>\n",
       "      <td>26.0</td>\n",
       "      <td>4.0</td>\n",
       "      <td>26.0</td>\n",
       "    </tr>\n",
       "    <tr>\n",
       "      <th>4</th>\n",
       "      <td>9dc1a7de274444849c219cff195d0b71</td>\n",
       "      <td>utilidades_domesticas</td>\n",
       "      <td>37.0</td>\n",
       "      <td>402.0</td>\n",
       "      <td>4.0</td>\n",
       "      <td>625.0</td>\n",
       "      <td>20.0</td>\n",
       "      <td>17.0</td>\n",
       "      <td>13.0</td>\n",
       "    </tr>\n",
       "  </tbody>\n",
       "</table>\n",
       "</div>"
      ],
      "text/plain": [
       "                         product_id  product_category_name  \\\n",
       "0  1e9e8ef04dbcff4541ed26657ea517e5             perfumaria   \n",
       "1  3aa071139cb16b67ca9e5dea641aaa2f                  artes   \n",
       "2  96bd76ec8810374ed1b65e291975717f          esporte_lazer   \n",
       "3  cef67bcfe19066a932b7673e239eb23d                  bebes   \n",
       "4  9dc1a7de274444849c219cff195d0b71  utilidades_domesticas   \n",
       "\n",
       "   product_name_lenght  product_description_lenght  product_photos_qty  \\\n",
       "0                 40.0                       287.0                 1.0   \n",
       "1                 44.0                       276.0                 1.0   \n",
       "2                 46.0                       250.0                 1.0   \n",
       "3                 27.0                       261.0                 1.0   \n",
       "4                 37.0                       402.0                 4.0   \n",
       "\n",
       "   product_weight_g  product_length_cm  product_height_cm  product_width_cm  \n",
       "0             225.0               16.0               10.0              14.0  \n",
       "1            1000.0               30.0               18.0              20.0  \n",
       "2             154.0               18.0                9.0              15.0  \n",
       "3             371.0               26.0                4.0              26.0  \n",
       "4             625.0               20.0               17.0              13.0  "
      ]
     },
     "metadata": {},
     "output_type": "display_data"
    }
   ],
   "source": [
    "products.head()"
   ]
  },
  {
   "attachments": {},
   "cell_type": "markdown",
   "metadata": {},
   "source": [
    "- *product_id*: categórica nominal\n",
    "- *product_category_name*: categórica nominal \n",
    "- *product_name_lenght*: numérica discreto\n",
    "- *product_description_lenght*: numérica discreto\n",
    "- *product_photos_qty*: numérica discreto\n",
    "- *product_weight_g*: numérica contínuo\n",
    "- *product_length_cm*: numérica contínuo\n",
    "- *product_height_cm*: numérica contínuo\n",
    "- *product_width_cm*: numérica contínuo"
   ]
  },
  {
   "cell_type": "code",
   "execution_count": 11,
   "metadata": {},
   "outputs": [
    {
     "data": {
      "text/plain": [
       "96096"
      ]
     },
     "execution_count": 11,
     "metadata": {},
     "output_type": "execute_result"
    }
   ],
   "source": [
    "# 3. Quantos clientes distintos existem na base da Olist?\n",
    "\n",
    "customer['customer_unique_id'].nunique()\n",
    "#len(customers['customer_unique_id'].unique().count())\n",
    "#customers['customer_unique_id'].drop_duplicates().count()"
   ]
  },
  {
   "cell_type": "code",
   "execution_count": 13,
   "metadata": {},
   "outputs": [
    {
     "name": "stdout",
     "output_type": "stream",
     "text": [
      "Inicio: 2016-09-04 / Fim: 2018-10-17\n"
     ]
    }
   ],
   "source": [
    "# 4. Qual o período de abrangência do dataset? De que ano a que ano?\n",
    "\n",
    "inicio = pd.to_datetime(orders['order_purchase_timestamp']).dt.date.min()\n",
    "fim = pd.to_datetime(orders['order_purchase_timestamp']).dt.date.max()\n",
    "print(f\"Inicio: {inicio} / Fim: {fim}\")"
   ]
  },
  {
   "cell_type": "code",
   "execution_count": 15,
   "metadata": {},
   "outputs": [
    {
     "data": {
      "text/plain": [
       "32951"
      ]
     },
     "execution_count": 15,
     "metadata": {},
     "output_type": "execute_result"
    }
   ],
   "source": [
    "# 5. Quantos produtos distintos?\n",
    "\n",
    "products['product_id'].nunique()"
   ]
  },
  {
   "cell_type": "code",
   "execution_count": 70,
   "metadata": {},
   "outputs": [
    {
     "data": {
      "text/html": [
       "<div>\n",
       "<style scoped>\n",
       "    .dataframe tbody tr th:only-of-type {\n",
       "        vertical-align: middle;\n",
       "    }\n",
       "\n",
       "    .dataframe tbody tr th {\n",
       "        vertical-align: top;\n",
       "    }\n",
       "\n",
       "    .dataframe thead th {\n",
       "        text-align: right;\n",
       "    }\n",
       "</style>\n",
       "<table border=\"1\" class=\"dataframe\">\n",
       "  <thead>\n",
       "    <tr style=\"text-align: right;\">\n",
       "      <th></th>\n",
       "      <th></th>\n",
       "      <th>customer_unique_id</th>\n",
       "    </tr>\n",
       "    <tr>\n",
       "      <th>customer_state</th>\n",
       "      <th>customer_city</th>\n",
       "      <th></th>\n",
       "    </tr>\n",
       "  </thead>\n",
       "  <tbody>\n",
       "    <tr>\n",
       "      <th>SP</th>\n",
       "      <th>sao paulo</th>\n",
       "      <td>15540</td>\n",
       "    </tr>\n",
       "    <tr>\n",
       "      <th>RJ</th>\n",
       "      <th>rio de janeiro</th>\n",
       "      <td>6882</td>\n",
       "    </tr>\n",
       "    <tr>\n",
       "      <th>MG</th>\n",
       "      <th>belo horizonte</th>\n",
       "      <td>2773</td>\n",
       "    </tr>\n",
       "    <tr>\n",
       "      <th>DF</th>\n",
       "      <th>brasilia</th>\n",
       "      <td>2131</td>\n",
       "    </tr>\n",
       "    <tr>\n",
       "      <th>PR</th>\n",
       "      <th>curitiba</th>\n",
       "      <td>1521</td>\n",
       "    </tr>\n",
       "  </tbody>\n",
       "</table>\n",
       "</div>"
      ],
      "text/plain": [
       "                               customer_unique_id\n",
       "customer_state customer_city                     \n",
       "SP             sao paulo                    15540\n",
       "RJ             rio de janeiro                6882\n",
       "MG             belo horizonte                2773\n",
       "DF             brasilia                      2131\n",
       "PR             curitiba                      1521"
      ]
     },
     "execution_count": 70,
     "metadata": {},
     "output_type": "execute_result"
    }
   ],
   "source": [
    "# 6. De onde são a maioria dos clientes?\n",
    "\n",
    "customer[['customer_state','customer_city','customer_unique_id']].groupby(['customer_state','customer_city']).count().sort_values(by=['customer_unique_id'],ascending=False).head(5)\n"
   ]
  },
  {
   "cell_type": "code",
   "execution_count": 30,
   "metadata": {},
   "outputs": [
    {
     "data": {
      "text/plain": [
       "1.1417306873695092"
      ]
     },
     "execution_count": 30,
     "metadata": {},
     "output_type": "execute_result"
    }
   ],
   "source": [
    "# 7. Qual o número médio de produtos vendidos por ordem?\n",
    "\n",
    "order_items['order_id'].value_counts().mean()"
   ]
  },
  {
   "cell_type": "code",
   "execution_count": 14,
   "metadata": {},
   "outputs": [
    {
     "data": {
      "text/plain": [
       "154.10038041699553"
      ]
     },
     "execution_count": 14,
     "metadata": {},
     "output_type": "execute_result"
    }
   ],
   "source": [
    "# 8. Qual é a média de preços por ordem de venda?\n",
    "\n",
    "order_payments['payment_value'].mean()"
   ]
  },
  {
   "cell_type": "code",
   "execution_count": 59,
   "metadata": {},
   "outputs": [
    {
     "data": {
      "text/html": [
       "<div>\n",
       "<style scoped>\n",
       "    .dataframe tbody tr th:only-of-type {\n",
       "        vertical-align: middle;\n",
       "    }\n",
       "\n",
       "    .dataframe tbody tr th {\n",
       "        vertical-align: top;\n",
       "    }\n",
       "\n",
       "    .dataframe thead th {\n",
       "        text-align: right;\n",
       "    }\n",
       "</style>\n",
       "<table border=\"1\" class=\"dataframe\">\n",
       "  <thead>\n",
       "    <tr style=\"text-align: right;\">\n",
       "      <th></th>\n",
       "      <th>price</th>\n",
       "    </tr>\n",
       "    <tr>\n",
       "      <th>seller_id</th>\n",
       "      <th></th>\n",
       "    </tr>\n",
       "  </thead>\n",
       "  <tbody>\n",
       "    <tr>\n",
       "      <th>4869f7a5dfa277a7dca6462dcf3b52b2</th>\n",
       "      <td>229472.63</td>\n",
       "    </tr>\n",
       "    <tr>\n",
       "      <th>53243585a1d6dc2643021fd1853d8905</th>\n",
       "      <td>222776.05</td>\n",
       "    </tr>\n",
       "    <tr>\n",
       "      <th>4a3ca9315b744ce9f8e9374361493884</th>\n",
       "      <td>200472.92</td>\n",
       "    </tr>\n",
       "    <tr>\n",
       "      <th>fa1c13f2614d7b5c4749cbc52fecda94</th>\n",
       "      <td>194042.03</td>\n",
       "    </tr>\n",
       "    <tr>\n",
       "      <th>7c67e1448b00f6e969d365cea6b010ab</th>\n",
       "      <td>187923.89</td>\n",
       "    </tr>\n",
       "  </tbody>\n",
       "</table>\n",
       "</div>"
      ],
      "text/plain": [
       "                                      price\n",
       "seller_id                                  \n",
       "4869f7a5dfa277a7dca6462dcf3b52b2  229472.63\n",
       "53243585a1d6dc2643021fd1853d8905  222776.05\n",
       "4a3ca9315b744ce9f8e9374361493884  200472.92\n",
       "fa1c13f2614d7b5c4749cbc52fecda94  194042.03\n",
       "7c67e1448b00f6e969d365cea6b010ab  187923.89"
      ]
     },
     "execution_count": 59,
     "metadata": {},
     "output_type": "execute_result"
    }
   ],
   "source": [
    "# 9. Quem são os principais vendedores que trazem maior faturamento para Olist?\n",
    "order_items[['seller_id','price']].groupby(['seller_id']).sum().sort_values(by=['price'],ascending=False).head(5)\n",
    "\n",
    "#df_seller_revenue.groupby(['seller_id']).sum()\n"
   ]
  }
 ],
 "metadata": {
  "kernelspec": {
   "display_name": "Python 3.10.6 64-bit",
   "language": "python",
   "name": "python3"
  },
  "language_info": {
   "codemirror_mode": {
    "name": "ipython",
    "version": 3
   },
   "file_extension": ".py",
   "mimetype": "text/x-python",
   "name": "python",
   "nbconvert_exporter": "python",
   "pygments_lexer": "ipython3",
   "version": "3.10.6"
  },
  "orig_nbformat": 4,
  "vscode": {
   "interpreter": {
    "hash": "1fb5f43698ef9f0bbd7c9bc5cfc72d70b8683ccc0ea5d480100f5cce1f279432"
   }
  }
 },
 "nbformat": 4,
 "nbformat_minor": 2
}
